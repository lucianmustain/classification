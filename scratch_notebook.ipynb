{
 "cells": [
  {
   "cell_type": "markdown",
   "id": "26b4dcad",
   "metadata": {},
   "source": [
    "### This will open an image!"
   ]
  },
  {
   "cell_type": "code",
   "execution_count": 8,
   "id": "b82bad88",
   "metadata": {},
   "outputs": [],
   "source": [
    "import rasterio\n",
    "import numpy"
   ]
  },
  {
   "cell_type": "code",
   "execution_count": 9,
   "id": "78f106f9",
   "metadata": {},
   "outputs": [],
   "source": [
    "fili1 = r\"C:\\Users\\RobMcEwan\\OneDrive - KorrAI\\KorrAI - Drive\\03 Product & Technology\\10. R&D\\01_projects\\18_outcrops\\FCI_tests\\01_BaseData\\DEM.tif\"  #enter the path to the image file here\n",
    "fili2 = \"\""
   ]
  },
  {
   "cell_type": "code",
   "execution_count": 12,
   "id": "97843059",
   "metadata": {},
   "outputs": [],
   "source": [
    "# quick image import function\n",
    "\n",
    "def import_image(filepath):\n",
    "    \n",
    "    with rasterio.open(filepath) as src:\n",
    "        img = src.read()\n",
    "        img_profile = src.profile\n",
    "       \n",
    "    return img, img_profile\n",
    "    "
   ]
  },
  {
   "cell_type": "code",
   "execution_count": 13,
   "id": "c54e32dc",
   "metadata": {},
   "outputs": [],
   "source": [
    "dem_img, img_profile = import_image(fili1)"
   ]
  },
  {
   "cell_type": "code",
   "execution_count": 15,
   "id": "c99d1fd0",
   "metadata": {},
   "outputs": [
    {
     "data": {
      "text/plain": [
       "(1, 1658, 2967)"
      ]
     },
     "execution_count": 15,
     "metadata": {},
     "output_type": "execute_result"
    }
   ],
   "source": [
    "dem_img.shape"
   ]
  },
  {
   "cell_type": "code",
   "execution_count": 16,
   "id": "b9e66ffc",
   "metadata": {},
   "outputs": [
    {
     "data": {
      "text/plain": [
       "{'driver': 'GTiff', 'dtype': 'float32', 'nodata': None, 'width': 2967, 'height': 1658, 'count': 1, 'crs': CRS.from_epsg(26918), 'transform': Affine(18.468777110251146, 0.0, 539406.1319657534,\n",
       "       0.0, -18.470097395152177, 5947631.296175593), 'tiled': False, 'interleave': 'band'}"
      ]
     },
     "execution_count": 16,
     "metadata": {},
     "output_type": "execute_result"
    }
   ],
   "source": [
    "img_profile"
   ]
  },
  {
   "cell_type": "code",
   "execution_count": null,
   "id": "17c895b3",
   "metadata": {},
   "outputs": [],
   "source": [
    "`"
   ]
  }
 ],
 "metadata": {
  "kernelspec": {
   "display_name": "Python 3 (ipykernel)",
   "language": "python",
   "name": "python3"
  },
  "language_info": {
   "codemirror_mode": {
    "name": "ipython",
    "version": 3
   },
   "file_extension": ".py",
   "mimetype": "text/x-python",
   "name": "python",
   "nbconvert_exporter": "python",
   "pygments_lexer": "ipython3",
   "version": "3.9.7"
  }
 },
 "nbformat": 4,
 "nbformat_minor": 5
}
